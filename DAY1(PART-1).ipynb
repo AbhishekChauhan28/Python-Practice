{
 "cells": [
  {
   "cell_type": "markdown",
   "metadata": {},
   "source": [
    "# Give a call to print that is provided one string that displays the following address on three separate lines.\n",
    "    C-DAC Knowledge Park,\n",
    "    Old Madras Road,\n",
    "    Bangalore - 560038"
   ]
  },
  {
   "cell_type": "code",
   "execution_count": 3,
   "metadata": {},
   "outputs": [
    {
     "name": "stdin",
     "output_type": "stream",
     "text": [
      "Enter the Name of Institute :  C-DAC Knowledge Park,\n",
      "Enter the adress of Institute :  Old Madras Road,\n",
      "Enter the pincode :   560038\n"
     ]
    }
   ],
   "source": [
    "a = input(\"Enter the Name of Institutes in Banglore : \");\n",
    "b = input(\"Enter the address of Institute : \");\n",
    "c = input(\"Enter the pincode : \");"
   ]
  },
  {
   "cell_type": "code",
   "execution_count": 4,
   "metadata": {},
   "outputs": [
    {
     "name": "stdout",
     "output_type": "stream",
     "text": [
      "C-DAC Knowledge Park,\n",
      "Old Madras Road,\n",
      "Banglore -   560038\n"
     ]
    }
   ],
   "source": [
    "print(a);\n",
    "print(b);\n",
    "print(\"Banglore - \",c);"
   ]
  },
  {
   "cell_type": "markdown",
   "metadata": {},
   "source": [
    "# Write a program which accepts the radius of a circle from the user and compute its area and circumference and display the output."
   ]
  },
  {
   "cell_type": "code",
   "execution_count": 1,
   "metadata": {},
   "outputs": [
    {
     "name": "stdin",
     "output_type": "stream",
     "text": [
      "Enter the radius of Circle :  12\n"
     ]
    }
   ],
   "source": [
    "r = float(input(\"Enter the radius of Circle : \"));\n",
    "PI = 3.14;"
   ]
  },
  {
   "cell_type": "code",
   "execution_count": 2,
   "metadata": {},
   "outputs": [
    {
     "name": "stdout",
     "output_type": "stream",
     "text": [
      "The area of the circle with radius 12.0 is: 452.16\n",
      "The circumference of the circle with radius 12.0 is : 75.36\n"
     ]
    }
   ],
   "source": [
    "print(\"The area of the circle with radius \" + str(r) + \" is: \" + str(PI * r ** 2));\n",
    "print(\"The circumference of the circle with radius \" + str(r)+ \" is : \" + str(2 * PI * r));"
   ]
  },
  {
   "cell_type": "markdown",
   "metadata": {},
   "source": [
    "# Write a program that will accept the base and height of a triangle and compute the area."
   ]
  },
  {
   "cell_type": "code",
   "execution_count": 10,
   "metadata": {},
   "outputs": [
    {
     "name": "stdin",
     "output_type": "stream",
     "text": [
      "Enter the Base measurement of the triangle :  12\n",
      "Enter the Height measurement of the triangle :  12\n"
     ]
    }
   ],
   "source": [
    "Base = float(input(\"Enter the Base measurement of the triangle : \"));\n",
    "Height = float(input(\"Enter the Height measurement of the triangle : \"));"
   ]
  },
  {
   "cell_type": "code",
   "execution_count": 11,
   "metadata": {},
   "outputs": [
    {
     "name": "stdout",
     "output_type": "stream",
     "text": [
      "Area of the triangle with base 12.0 and height 12.0 is : 72.0\n"
     ]
    }
   ],
   "source": [
    "print(\"Area of the triangle with base \" + str(Base) + \" and height \" + str(Height) + \" is : \" + str((Height * Base) / 2));"
   ]
  },
  {
   "cell_type": "markdown",
   "metadata": {},
   "source": [
    "# Write a program that accepts an integer (n) and computes the value of\n",
    "    n+nn+nnn."
   ]
  },
  {
   "cell_type": "code",
   "execution_count": 2,
   "metadata": {},
   "outputs": [
    {
     "name": "stdin",
     "output_type": "stream",
     "text": [
      "Enter the value :  6\n"
     ]
    }
   ],
   "source": [
    "n = int(input(\"Enter the value : \"))"
   ]
  },
  {
   "cell_type": "code",
   "execution_count": 3,
   "metadata": {},
   "outputs": [
    {
     "name": "stdout",
     "output_type": "stream",
     "text": [
      "258\n"
     ]
    }
   ],
   "source": [
    "output = n + n**2 + n**3\n",
    "print(output)"
   ]
  },
  {
   "cell_type": "markdown",
   "metadata": {},
   "source": [
    "# Write a program to display a string which is n copies of a given string. Where n is a non-negative integer."
   ]
  },
  {
   "cell_type": "code",
   "execution_count": 4,
   "metadata": {},
   "outputs": [
    {
     "name": "stdout",
     "output_type": "stream",
     "text": [
      "HelloHelloHelloHelloHello\n"
     ]
    }
   ],
   "source": [
    "n = 5\n",
    "string = \"Hello\"\n",
    "print(string * 5)"
   ]
  },
  {
   "cell_type": "markdown",
   "metadata": {},
   "source": [
    "# Write a program to find whether a given number (accept number from the user) is even or odd, print out an appropriate message to the user"
   ]
  },
  {
   "cell_type": "code",
   "execution_count": 91,
   "metadata": {},
   "outputs": [
    {
     "name": "stdin",
     "output_type": "stream",
     "text": [
      "User please enter any value 4\n"
     ]
    }
   ],
   "source": [
    "a = int(input(\"User please enter any value\"));"
   ]
  },
  {
   "cell_type": "code",
   "execution_count": 92,
   "metadata": {},
   "outputs": [
    {
     "name": "stdout",
     "output_type": "stream",
     "text": [
      "The entered number by user 4 is an even number\n"
     ]
    }
   ],
   "source": [
    "if(a % 2 == 0):\n",
    "    print(\"The entered number by user \" + str(a) + \" is an even number\")\n",
    "else:\n",
    "    print(\"The entered number by user \" + str(a) + \" is an odd number\")"
   ]
  },
  {
   "cell_type": "markdown",
   "metadata": {},
   "source": [
    "# Write a program to test whether a passed letter is a vowel or not. (Accept letter from the user)"
   ]
  },
  {
   "cell_type": "code",
   "execution_count": 98,
   "metadata": {},
   "outputs": [
    {
     "name": "stdin",
     "output_type": "stream",
     "text": [
      "Please! user enter any alphabets by your choice :  t\n"
     ]
    }
   ],
   "source": [
    "al = str(input(\"Please! user enter any alphabets by your choice : \"));"
   ]
  },
  {
   "cell_type": "code",
   "execution_count": 99,
   "metadata": {},
   "outputs": [
    {
     "name": "stdout",
     "output_type": "stream",
     "text": [
      "Alphabet entered by user is not a vowel\n"
     ]
    }
   ],
   "source": [
    "if(al == 'a' or al == 'e'or al == 'i'or al == 'o'or al == 'u' or al == 'A' or al == 'E'or al == 'I'or al == 'O'or al == 'U'):\n",
    "    print(\"Alphabet entered by user is a vowel\");\n",
    "else:\n",
    "    print(\"Alphabet entered by user is not a vowel\");"
   ]
  },
  {
   "cell_type": "markdown",
   "metadata": {},
   "source": [
    "# Write a program to accept a filename from the user and print the extension of that. \n",
    "    Sample filename: attendance.xlsx\n",
    "    Output: xlsx"
   ]
  },
  {
   "cell_type": "code",
   "execution_count": 100,
   "metadata": {},
   "outputs": [
    {
     "name": "stdin",
     "output_type": "stream",
     "text": [
      "Enter the file name :  first_Program.c++\n"
     ]
    }
   ],
   "source": [
    "FileName = input(\"Enter the file name : \");"
   ]
  },
  {
   "cell_type": "code",
   "execution_count": 103,
   "metadata": {},
   "outputs": [
    {
     "name": "stdout",
     "output_type": "stream",
     "text": [
      "Sample FileName :  first_Program.c++\n",
      "Output :  c++\n"
     ]
    }
   ],
   "source": [
    "f = FileName.split(\".\");\n",
    "ex = (f[-1])\n",
    "print(\"Sample FileName : \" , FileName);\n",
    "print(\"Output : \" , ex);"
   ]
  },
  {
   "cell_type": "markdown",
   "metadata": {},
   "source": [
    "# Write a program to print all even numbers from the numbers list given below in the same order and stop the printing if any numbers that come after 449 in the sequence.\n",
    "    numbers = [ 1386, 462, 47, 418, 907, 344, 236, 375, 823, 566, 597, 978, 328, 615, 953, 345, 1390, 162, 758, 219, 918, 237, 412, 566, 449, 248, 866, 950, 626, 949, 687, 217, 815, 67, 104, 58, 512, 24]"
   ]
  },
  {
   "cell_type": "code",
   "execution_count": 114,
   "metadata": {},
   "outputs": [],
   "source": [
    "number = [1386, 462, 47, 418, 907, 344, 236, 375, 823, 566, 597, 978, 328, 615, 953, 345, 1390, 162, 758, 219, 918, 237, 412, 566, 449, 248, 866, 950, 626, 949, 687, 217, 815, 67, 104, 58, 512, 24]"
   ]
  },
  {
   "cell_type": "code",
   "execution_count": 116,
   "metadata": {},
   "outputs": [
    {
     "name": "stdout",
     "output_type": "stream",
     "text": [
      "1386\n",
      "462\n",
      "418\n",
      "344\n",
      "236\n",
      "566\n",
      "978\n",
      "328\n",
      "1390\n",
      "162\n",
      "758\n",
      "918\n",
      "412\n",
      "566\n",
      "449\n"
     ]
    }
   ],
   "source": [
    "for i in number:\n",
    "    if i == 449:\n",
    "        print(i)\n",
    "        break;\n",
    "    elif i % 2 ==0:\n",
    "        print(i)\n",
    "        "
   ]
  },
  {
   "cell_type": "markdown",
   "metadata": {},
   "source": [
    "# Write a program to print all the colors from color_list_1 which are not present in color_list_2.\n",
    "    Test Data:\n",
    "    color_list_1 = [\"White\", \"Black\", \"Red\"]\n",
    "    color_list_2 = [\"Red\", \"Green\"]\n",
    "    Expected Output:\n",
    "    Black\n",
    "    White"
   ]
  },
  {
   "cell_type": "code",
   "execution_count": 131,
   "metadata": {},
   "outputs": [],
   "source": [
    " color_list_1 = set([\"White\", \"Black\", \"Red\"]);\n",
    " color_list_2 = set([\"Red\", \"Green\"]);        "
   ]
  },
  {
   "cell_type": "code",
   "execution_count": 132,
   "metadata": {},
   "outputs": [
    {
     "name": "stdout",
     "output_type": "stream",
     "text": [
      "{'White', 'Black'}\n"
     ]
    }
   ],
   "source": [
    "print(color_list_1.difference(color_list_2))"
   ]
  }
 ],
 "metadata": {
  "kernelspec": {
   "display_name": "Python 3",
   "language": "python",
   "name": "python3"
  },
  "language_info": {
   "codemirror_mode": {
    "name": "ipython",
    "version": 3
   },
   "file_extension": ".py",
   "mimetype": "text/x-python",
   "name": "python",
   "nbconvert_exporter": "python",
   "pygments_lexer": "ipython3",
   "version": "3.8.10"
  }
 },
 "nbformat": 4,
 "nbformat_minor": 4
}
