{
 "cells": [
  {
   "cell_type": "markdown",
   "metadata": {},
   "source": [
    "# Develop and test a program that prompts the user for their age and determines approximately how many breaths and how many heartbeats the person has had in their life. The average respiration (breath) rate of people changes during different stages of development. Use the breath rates given below for use in your program:\n",
    "    Avg Breaths per Minute\n",
    "     a. 1–4 years 25\n",
    "     b. 5–14 years 20\n",
    "     c. Adults 16\n",
    "     For heart rate, use an average of 67.5 beats per second."
   ]
  },
  {
   "cell_type": "code",
   "execution_count": 4,
   "metadata": {},
   "outputs": [
    {
     "name": "stdin",
     "output_type": "stream",
     "text": [
      "Enter the age :  23\n"
     ]
    }
   ],
   "source": [
    "age = int(input(\"Enter the age : \"));"
   ]
  },
  {
   "cell_type": "code",
   "execution_count": 5,
   "metadata": {},
   "outputs": [],
   "source": [
    "bpm_1_to_4 = 25\n",
    "bpm_5_to_14 = 20\n",
    "bpm_adults = 16\n",
    "heart_rate = 67.5\n",
    "\n",
    "heart_rate_day = (67.5 * 60 * 24);\n",
    "heart_rate_year = (heart_rate_day * 365);"
   ]
  },
  {
   "cell_type": "code",
   "execution_count": 6,
   "metadata": {},
   "outputs": [
    {
     "name": "stdout",
     "output_type": "stream",
     "text": [
      "Heart beats till hi/her age 23 is :  815994000.0\n",
      "Breaths till hi/her age 23 is :  302220000\n"
     ]
    }
   ],
   "source": [
    "if age <= 1 or age >= 4 :\n",
    "    breath_per_year = (bpm_1_to_4 * 60 * 24 * 365);\n",
    "    print(\"Heart beats till hi/her age \" + str(age) + \" is :  \" + str(age * heart_rate_year));\n",
    "    print(\"Breaths till hi/her age \" + str(age) + \" is :  \" + str(age * breath_per_year));\n",
    "elif age >= 5 or age <= 14 :\n",
    "    breath_per_year = (bpm_5_to_14 * 60 * 24 * 365);\n",
    "    print(\"Heart beats till hi/her age \" + str(age) + \" is :  \" + str(age * heart_rate_year));\n",
    "    print(\"Breaths till hi/her age \" + str(age) + \" is :  \" + str(age * breath_per_year));\n",
    "else :\n",
    "    breath_per_year = (bpm_adults * 60 * 24 * 365);\n",
    "    print(\"Heart beats till hi/her age \" + str(age) + \" is :  \" + str(age * heart_rate_year));\n",
    "    print(\"Breaths till hi/her age \" + str(age) + \" is :  \" + str(age * breath_per_year));"
   ]
  },
  {
   "cell_type": "markdown",
   "metadata": {},
   "source": [
    "#  Write a program to implement a simple calculator that can add, subtract, multiply and divide two integers. Take the required operation as choice from the user"
   ]
  },
  {
   "cell_type": "code",
   "execution_count": null,
   "metadata": {},
   "outputs": [],
   "source": [
    "number_1 = int(input(\"Enter the first number : \"));\n",
    "number_2 = int(input(\"Enter the second number : \"));"
   ]
  },
  {
   "cell_type": "code",
   "execution_count": null,
   "metadata": {},
   "outputs": [],
   "source": [
    "print(\"Enter your choice\");\n",
    "ch = input(\"Choose any of the options from this: +,-,*,/ : \");"
   ]
  },
  {
   "cell_type": "code",
   "execution_count": null,
   "metadata": {},
   "outputs": [],
   "source": [
    "result = 0;\n",
    "if ch == '+' :\n",
    "    result = number_1 + number_2;\n",
    "elif ch == '-' :\n",
    "    result = number_1 - number_2;\n",
    "elif ch == '*' :\n",
    "    result = number_1 * number_2;\n",
    "elif ch == '/' :\n",
    "    result = number_1 / number_2;\n",
    "else :\n",
    "    print(\"Input choice is not recognisable\");\n",
    "\n",
    "print(number_1, ch, number_2 ,\" : \", result);"
   ]
  },
  {
   "cell_type": "markdown",
   "metadata": {},
   "source": [
    "#  Write a program to check whether the given number is perfect number or not. A number is called as a perfect number if the sum of the factors of that number is equal to the same number. \n",
    "    Example: 6 = 1 + 2 + 3"
   ]
  },
  {
   "cell_type": "code",
   "execution_count": null,
   "metadata": {},
   "outputs": [],
   "source": [
    "number = int(input(\"Use enter the number, Please! = \"))"
   ]
  },
  {
   "cell_type": "code",
   "execution_count": 2,
   "metadata": {},
   "outputs": [
    {
     "name": "stdout",
     "output_type": "stream",
     "text": [
      "number 23 enter by user is a perfect number\n"
     ]
    }
   ],
   "source": [
    "sum1 = 0;\n",
    "for i in range(1, number) :\n",
    "    if number % i :\n",
    "        sum1 += i\n",
    "if sum1 == number :\n",
    "    print(\"number \" + str(number) + \" enter by user is a perfect number\");\n",
    "else :\n",
    "    print(\"number \" + str(number) + \" enter by user is a perfect number\");\n",
    "    "
   ]
  },
  {
   "cell_type": "markdown",
   "metadata": {},
   "source": [
    "# Write a program to check whether a number can be expanded as the sum of two prime numbers.\n",
    "    For example, the number 9 can be expanded as two prime numbers 2 and 7\n",
    "    9 = 2 + 7."
   ]
  },
  {
   "cell_type": "code",
   "execution_count": 4,
   "metadata": {},
   "outputs": [],
   "source": [
    "def sum_of_primes(number):\n",
    "    isPrime = 1\n",
    "    for i in range (2, int(number / 2), 1):\n",
    "        if number % i == 0 :\n",
    "            isPrime = 0\n",
    "            break\n",
    "    return isPrime"
   ]
  },
  {
   "cell_type": "code",
   "execution_count": 5,
   "metadata": {},
   "outputs": [
    {
     "name": "stdin",
     "output_type": "stream",
     "text": [
      "Enter a number :  23\n"
     ]
    },
    {
     "name": "stdout",
     "output_type": "stream",
     "text": [
      "23 can be expressed as the sum of 4 and 19\n"
     ]
    }
   ],
   "source": [
    "number = int(input(\"Enter a number : \"))\n",
    "flag = 0;\n",
    "i = 2\n",
    "for i in range (2, int(number / 2 ), 1):\n",
    "    if(sum_of_primes(i) == 1):\n",
    "        if(sum_of_primes(number - i) == 1):\n",
    "            print(str(number) + \" can be expressed as the sum of \" + str(i) + \" and \" + str(number-i))\n",
    "            flag = 1;\n",
    "if (flag == 0):\n",
    "    print(n,\"cannot be expressed as the sum of two prime numbers\")"
   ]
  },
  {
   "cell_type": "markdown",
   "metadata": {},
   "source": [
    "# Write a program which takes three integers and prints a histogram to the screen.  \n",
    "    For example, if the three integers are 4, 8, 6 then it should print the following:\n",
    "    ****\n",
    "    ********\n",
    "    *****"
   ]
  },
  {
   "cell_type": "code",
   "execution_count": null,
   "metadata": {},
   "outputs": [],
   "source": [
    "list_a = []\n",
    "for i in range(3):\n",
    "    list_a.append(int(input(\"Enter Number {0}:\".format(i+1))))\n",
    "\n",
    "for j in list_a:\n",
    "    print(\"*\" * j)"
   ]
  },
  {
   "cell_type": "markdown",
   "metadata": {},
   "source": [
    "# Write a program to read a multi word string and print all the words in alphabetical order."
   ]
  },
  {
   "cell_type": "code",
   "execution_count": null,
   "metadata": {},
   "outputs": [],
   "source": [
    "MyString = str(input(\"Enter the String : \"))\n",
    "word = MyString.split();"
   ]
  },
  {
   "cell_type": "code",
   "execution_count": null,
   "metadata": {},
   "outputs": [],
   "source": [
    "word.sort()"
   ]
  },
  {
   "cell_type": "code",
   "execution_count": null,
   "metadata": {},
   "outputs": [],
   "source": [
    "print(word)"
   ]
  },
  {
   "cell_type": "code",
   "execution_count": null,
   "metadata": {},
   "outputs": [],
   "source": [
    "for words in word:\n",
    "    print(words)"
   ]
  },
  {
   "cell_type": "markdown",
   "metadata": {},
   "source": [
    "# Write a program to remove all the following punctuation/sepcial characters from the given string.\n",
    "    !()-[]{};:'\"\\,<>./?@#$%^&*_~"
   ]
  },
  {
   "cell_type": "code",
   "execution_count": null,
   "metadata": {},
   "outputs": [],
   "source": [
    "MyString = str(input(\"Enter the String : \"))\n",
    "word = MyString.split()"
   ]
  },
  {
   "cell_type": "code",
   "execution_count": null,
   "metadata": {},
   "outputs": [],
   "source": [
    "MyString"
   ]
  },
  {
   "cell_type": "code",
   "execution_count": null,
   "metadata": {},
   "outputs": [],
   "source": [
    "PUNCTUATIONS = '''!()-[]{};:'\"\\,<>./?@#$%^&*_~'''"
   ]
  },
  {
   "cell_type": "code",
   "execution_count": null,
   "metadata": {},
   "outputs": [],
   "source": [
    "No_Punct = \"\""
   ]
  },
  {
   "cell_type": "code",
   "execution_count": null,
   "metadata": {},
   "outputs": [],
   "source": [
    "for char in MyString :\n",
    "    if char not in PUNCTUATIONS :\n",
    "        No_Punct = No_Punct + char\n",
    "print(No_Punct)"
   ]
  },
  {
   "cell_type": "markdown",
   "metadata": {},
   "source": [
    "# Write a program to check whether a sentence is a pangram or not. A pangram is a sentence that contains all the letters of the English alphabet at least once. \n",
    "    Example: The quick brown fox jumps over the lazy dog"
   ]
  },
  {
   "cell_type": "code",
   "execution_count": 5,
   "metadata": {},
   "outputs": [
    {
     "name": "stdin",
     "output_type": "stream",
     "text": [
      "Enter the String :  the quick brown fox jumps over the lazy dog\n"
     ]
    }
   ],
   "source": [
    "MyString = str(input(\"Enter the String : \"))\n",
    "word = MyString.split()"
   ]
  },
  {
   "cell_type": "code",
   "execution_count": 6,
   "metadata": {},
   "outputs": [
    {
     "data": {
      "text/plain": [
       "'the quick brown fox jumps over the lazy dog'"
      ]
     },
     "execution_count": 6,
     "metadata": {},
     "output_type": "execute_result"
    }
   ],
   "source": [
    "MyString"
   ]
  },
  {
   "cell_type": "code",
   "execution_count": 10,
   "metadata": {},
   "outputs": [],
   "source": [
    "def isPangram(str):\n",
    "    alphabet = \"abcdefghijklmnopqrstuvwxyz\"\n",
    "    for char in alphabet:\n",
    "        if char not in str.lower() :\n",
    "            return False\n",
    "    return True"
   ]
  },
  {
   "cell_type": "code",
   "execution_count": 12,
   "metadata": {},
   "outputs": [
    {
     "name": "stdout",
     "output_type": "stream",
     "text": [
      "Enter number is a pangram\n"
     ]
    }
   ],
   "source": [
    "if(isPangram(MyString) == True):\n",
    "    print(\"Enter number is a pangram\")\n",
    "else :\n",
    "    print(\"Enter number is a pangram\")"
   ]
  },
  {
   "cell_type": "markdown",
   "metadata": {},
   "source": [
    "# Write a program that takes a phrase as a user input and then prints the corresponding acronym."
   ]
  },
  {
   "cell_type": "code",
   "execution_count": 16,
   "metadata": {},
   "outputs": [
    {
     "name": "stdin",
     "output_type": "stream",
     "text": [
      "Enter the phrase:  Hey! This Is His/Her Car\n"
     ]
    }
   ],
   "source": [
    "MyString = input(\"Enter the phrase: \")\n",
    "MyString_split = MyString.split()"
   ]
  },
  {
   "cell_type": "code",
   "execution_count": 17,
   "metadata": {},
   "outputs": [
    {
     "data": {
      "text/plain": [
       "['Hey!', 'This', 'Is', 'His/Her', 'Car']"
      ]
     },
     "execution_count": 17,
     "metadata": {},
     "output_type": "execute_result"
    }
   ],
   "source": [
    "MyString_split"
   ]
  },
  {
   "cell_type": "code",
   "execution_count": 18,
   "metadata": {},
   "outputs": [
    {
     "name": "stdout",
     "output_type": "stream",
     "text": [
      "The acronym for your phrase is  H.\n",
      "The acronym for your phrase is  HT.\n",
      "The acronym for your phrase is  HTI.\n",
      "The acronym for your phrase is  HTIH.\n",
      "The acronym for your phrase is  HTIHC.\n"
     ]
    }
   ],
   "source": [
    "acronym = \"\"\n",
    "for i in MyString_split:\n",
    "    acronym = acronym + i[0].upper()\n",
    "    print(\"The acronym for your phrase is \",acronym + \".\")"
   ]
  },
  {
   "cell_type": "markdown",
   "metadata": {},
   "source": [
    "# Write a program that will translate a text into \"rövarspråket\" (Swedish for \"robber's language\").\n",
    "    That is, double every consonant and place an occurrence of \"o\" in between. \n",
    "    For example, “this is fun” should return the string \"tothohisos isos fofunon\"."
   ]
  },
  {
   "cell_type": "code",
   "execution_count": 1,
   "metadata": {},
   "outputs": [
    {
     "name": "stdin",
     "output_type": "stream",
     "text": [
      "Enter the Sentence :  this is fun\n"
     ]
    }
   ],
   "source": [
    "MyString = input(\"Enter the Sentence : \")\n",
    "consonant = \"bcdfghjklmnpqrstvwxz\""
   ]
  },
  {
   "cell_type": "code",
   "execution_count": 2,
   "metadata": {},
   "outputs": [],
   "source": [
    "def translate(s) :\n",
    "    r = \" \"\n",
    "    for c in s :\n",
    "        r += c;\n",
    "        if c in consonant :\n",
    "            r += 'o' + c;\n",
    "    return r"
   ]
  },
  {
   "cell_type": "code",
   "execution_count": 3,
   "metadata": {},
   "outputs": [
    {
     "name": "stdout",
     "output_type": "stream",
     "text": [
      " tothohisos isos fofunon\n"
     ]
    }
   ],
   "source": [
    "print(translate(MyString))"
   ]
  }
 ],
 "metadata": {
  "kernelspec": {
   "display_name": "Python 3",
   "language": "python",
   "name": "python3"
  },
  "language_info": {
   "codemirror_mode": {
    "name": "ipython",
    "version": 3
   },
   "file_extension": ".py",
   "mimetype": "text/x-python",
   "name": "python",
   "nbconvert_exporter": "python",
   "pygments_lexer": "ipython3",
   "version": "3.8.10"
  }
 },
 "nbformat": 4,
 "nbformat_minor": 4
}
