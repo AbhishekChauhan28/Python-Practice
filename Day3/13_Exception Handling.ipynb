{
 "cells": [
  {
   "cell_type": "markdown",
   "metadata": {},
   "source": [
    "# Introduction\n",
    "We can make certain mistakes while writing a program that lead to errors when we try to run it. A python program terminates as soon as it encounters an unhandled error. These errors can be broadly classified into two classes:\n",
    "\n",
    "- Syntax errors\n",
    "- Logical errors (Exceptions)"
   ]
  },
  {
   "cell_type": "markdown",
   "metadata": {
    "tags": []
   },
   "source": [
    "# Syntax Errors\n",
    "Error caused by not following the proper structure (syntax) of the language is called syntax error or parsing error."
   ]
  },
  {
   "cell_type": "code",
   "execution_count": 1,
   "metadata": {
    "tags": []
   },
   "outputs": [
    {
     "ename": "SyntaxError",
     "evalue": "invalid syntax (<ipython-input-1-85881e704034>, line 3)",
     "output_type": "error",
     "traceback": [
      "\u001b[1;36m  File \u001b[1;32m\"<ipython-input-1-85881e704034>\"\u001b[1;36m, line \u001b[1;32m3\u001b[0m\n\u001b[1;33m    if a < 3\u001b[0m\n\u001b[1;37m            ^\u001b[0m\n\u001b[1;31mSyntaxError\u001b[0m\u001b[1;31m:\u001b[0m invalid syntax\n"
     ]
    }
   ],
   "source": [
    "# For Example\n",
    "a = 2\n",
    "if a < 3\n",
    "    print(a)"
   ]
  },
  {
   "cell_type": "markdown",
   "metadata": {
    "tags": []
   },
   "source": [
    "- As shown in the example above, an arrow indicates where the parser ran into the syntax error."
   ]
  },
  {
   "cell_type": "markdown",
   "metadata": {
    "tags": []
   },
   "source": [
    "# Exceptions"
   ]
  },
  {
   "cell_type": "markdown",
   "metadata": {
    "tags": []
   },
   "source": [
    "- Errors that occur at runtime (after passing the syntax test) are called exceptions or logical errors."
   ]
  },
  {
   "cell_type": "markdown",
   "metadata": {
    "tags": []
   },
   "source": [
    "- For example, they occur when we \n",
    "    - try to open a file(for reading) that does not exist (FileNotFoundError)\n",
    "    - try access list element with index value greater than its length (IndexError)\n",
    "    - try to import a module that does not exist (ImportError).\n",
    "\n",
    "\n",
    "- Whenever these types of runtime errors occur, Python creates an exception object. If not handled properly, it prints a traceback to that error along with some details about why that error occurred."
   ]
  },
  {
   "cell_type": "code",
   "execution_count": null,
   "metadata": {},
   "outputs": [],
   "source": [
    "file = open(\"fname.txt\")"
   ]
  },
  {
   "cell_type": "markdown",
   "metadata": {
    "tags": []
   },
   "source": [
    "Some of the common built-in exceptions in Python programming are:\n",
    "\n",
    "|Exception|Cause|\n",
    "|----|----|\n",
    "|`AttributeError` |Raised when attribute assignment or reference fails.|\n",
    "|`FloatingPointError` |Raised when a floating point operation fails.|\n",
    "|`ImportError` |Raised when the imported module is not found.|\n",
    "|`IndexError` |Raised when the index of a sequence is out of range.|\n",
    "|`KeyError` |Raised when a key is not found in a dictionary.|\n",
    "|`KeyboardInterrupt` |Raised when the user hits the interrupt key (Ctrl+C).|\n",
    "|`MemoryError` |Raised when an operation runs out of memory.|\n",
    "|`NameError` |Raised when a variable is not found in local or global scope.|\n",
    "|`OSError` |Raised when system operation causes system related error.|\n",
    "|`RuntimeError` |Raised when an error does not fall under any other category.|\n",
    "|`IndentationError` |Raised when there is incorrect indentation.|\n",
    "|`TabError` |Raised when indentation consists of inconsistent tabs and spaces.|\n",
    "|`SystemError` |Raised when interpreter detects internal error.|\n",
    "|`TypeError` |Raised when a function or operation is applied to an object of incorrect |type.\n",
    "|`ValueError` |Raised when a function gets an argument of correct type but improper |value.\n",
    "|`ZeroDivisionError` |Raised when the second operand of division or modulo operation is |zero"
   ]
  },
  {
   "cell_type": "markdown",
   "metadata": {
    "tags": []
   },
   "source": [
    "# Exception Handling"
   ]
  },
  {
   "cell_type": "markdown",
   "metadata": {
    "tags": []
   },
   "source": [
    "- When exceptions occur, the Python interpreter stops the current process and passes it to the calling process until it is handled. If not handled, the program will crash.\n",
    "- For example, let us consider a program where we have a function A that calls function B, which in turn calls function C. If an exception occurs in function C but is not handled in C, the exception passes to B and then to A.\n",
    "- If never handled, an error message is displayed and program comes to a sudden unexpected halt.\n",
    "- To avoid this we use exception handling"
   ]
  },
  {
   "cell_type": "markdown",
   "metadata": {
    "tags": []
   },
   "source": [
    "## `try...except`\n",
    "- In Python, exceptions can be handled using a `try` statement.\n",
    "- The critical operation which can raise an exception is placed inside the try clause. - The code that handles the exceptions is written in the `except` clause.\n",
    "- We can thus choose what operations to perform once we have caught the exception."
   ]
  },
  {
   "cell_type": "code",
   "execution_count": null,
   "metadata": {
    "tags": []
   },
   "outputs": [],
   "source": [
    "colors = [\"red\",\"green\",\"blue\"]\n",
    "\n",
    "\n",
    "print(colors[4])\n",
    "    \n",
    "colors_cap = [i.upper() for i in colors]\n",
    "print(colors_cap)"
   ]
  },
  {
   "cell_type": "code",
   "execution_count": null,
   "metadata": {
    "tags": []
   },
   "outputs": [],
   "source": [
    "# For example:\n",
    "\n",
    "colors = [\"red\",\"green\",\"blue\"]\n",
    "\n",
    "try:\n",
    "    print(colors[4])\n",
    "except:\n",
    "    print(\"List index is out of range\")\n",
    "    \n",
    "colors_cap = [i.upper() for i in colors]\n",
    "print(colors_cap)"
   ]
  },
  {
   "cell_type": "markdown",
   "metadata": {
    "tags": []
   },
   "source": [
    "## `except` specific exception"
   ]
  },
  {
   "cell_type": "code",
   "execution_count": null,
   "metadata": {},
   "outputs": [],
   "source": [
    "# For example:\n",
    "\n",
    "colors = [\"red\",\"green\",\"blue\"]\n",
    "\n",
    "try:\n",
    "    print(colors[1])\n",
    "    r = open(\"My_file.txt\")\n",
    "except IndexError:\n",
    "    print(\"List index is out of range\")\n",
    "except:\n",
    "    print(\"other error occured\")\n",
    "    \n",
    "colors_cap = [i.upper() for i in colors]\n",
    "print(colors_cap)"
   ]
  },
  {
   "cell_type": "markdown",
   "metadata": {
    "tags": []
   },
   "source": [
    "## Multiple `except` statements"
   ]
  },
  {
   "cell_type": "markdown",
   "metadata": {
    "tags": []
   },
   "source": [
    "## Raising Exceptions\n",
    "- Exceptions are raised when errors occur at runtime. We can also manually raise exceptions using the `raise` keyword.\n",
    "- We can optionally pass values to the exception to clarify why that exception was raised."
   ]
  },
  {
   "cell_type": "code",
   "execution_count": null,
   "metadata": {
    "tags": []
   },
   "outputs": [],
   "source": [
    "raise KeyboardInterrupt"
   ]
  },
  {
   "cell_type": "code",
   "execution_count": null,
   "metadata": {
    "tags": []
   },
   "outputs": [],
   "source": [
    "raise KeyboardInterrupt(\"I did it for fun. Ha ha :D\")"
   ]
  },
  {
   "cell_type": "code",
   "execution_count": null,
   "metadata": {
    "tags": []
   },
   "outputs": [],
   "source": [
    "try:\n",
    "    a = int(input(\"Enter a positive integer: \"))\n",
    "    if a <= 0:\n",
    "        raise ValueError(\"That is not a positive number!\")\n",
    "except ValueError as ve:\n",
    "    print(ve)"
   ]
  },
  {
   "cell_type": "markdown",
   "metadata": {
    "tags": []
   },
   "source": [
    "## `assert`\n",
    "\n",
    "- The `assert` keyword is used when debugging code.\n",
    "- It lets you test if a condition in your code returns `True`, if not, the program will raise an `AssertionError`.\n",
    "- You can write a message to be written if the code returns `False`"
   ]
  },
  {
   "cell_type": "code",
   "execution_count": null,
   "metadata": {
    "tags": []
   },
   "outputs": [],
   "source": [
    "num = 5"
   ]
  },
  {
   "cell_type": "code",
   "execution_count": null,
   "metadata": {
    "tags": []
   },
   "outputs": [],
   "source": [
    "assert num % 2 == 0"
   ]
  },
  {
   "cell_type": "code",
   "execution_count": null,
   "metadata": {
    "tags": []
   },
   "outputs": [],
   "source": [
    "assert num % 2 == 0, \"Error occured here\""
   ]
  },
  {
   "cell_type": "markdown",
   "metadata": {
    "tags": []
   },
   "source": [
    "## `try` with `else` clause\n",
    "- In some situations, you might want to run a certain block of code if the code block inside try ran without any errors.\n",
    "- For these cases, you can use the optional `else` keyword with the `try` statement.\n",
    "- Exceptions in the `else` clause are not handled by the preceding `except` clauses."
   ]
  },
  {
   "cell_type": "code",
   "execution_count": null,
   "metadata": {
    "tags": []
   },
   "outputs": [],
   "source": [
    "# program to print the reciprocal of even numbers\n",
    "\n",
    "try:\n",
    "    num = int(input(\"Enter a number: \"))\n",
    "    assert num % 2 == 0\n",
    "except:\n",
    "    print(\"Not an even number!\")\n",
    "else:\n",
    "    reciprocal = 1/num\n",
    "    print(\"Reciprocal is:\", reciprocal)"
   ]
  },
  {
   "cell_type": "code",
   "execution_count": null,
   "metadata": {
    "tags": []
   },
   "outputs": [],
   "source": [
    "# ZeroDivisionError in above Nested try except example\n",
    "# program to print the reciprocal of even numbers\n",
    "\n",
    "try:\n",
    "    num = int(input(\"Enter a number: \"))\n",
    "    assert num % 2 == 0\n",
    "except:\n",
    "    print(\"Not an even number!\")\n",
    "else:\n",
    "    try:\n",
    "        reciprocal = 1/num\n",
    "        print(\"Reciprocal is:\", reciprocal)\n",
    "    except:\n",
    "        pass"
   ]
  },
  {
   "cell_type": "markdown",
   "metadata": {
    "tags": []
   },
   "source": [
    "## `try...finally`\n",
    "\n",
    "- The `try` statement can have an optional `finally` clause.\n",
    "- This clause is executed no matter what, and is generally used to release external resources."
   ]
  },
  {
   "cell_type": "code",
   "execution_count": null,
   "metadata": {
    "tags": []
   },
   "outputs": [],
   "source": [
    "try:\n",
    "    f = open(\"test.txt\",\"w\")\n",
    "    f.write(25)\n",
    "except:\n",
    "    print(\"Exception occured\")\n",
    "finally:\n",
    "    f.close()\n",
    "    print(\"closing file\")\n",
    "    \n",
    "# This type of construct makes sure that the file is closed even if \n",
    "# an exception occurs during the program execution."
   ]
  },
  {
   "cell_type": "markdown",
   "metadata": {
    "tags": []
   },
   "source": [
    "# User Defined Exceptions"
   ]
  },
  {
   "cell_type": "markdown",
   "metadata": {
    "tags": []
   },
   "source": [
    "- In Python, users can define custom exceptions by creating a new class.\n",
    "- This exception class has to be derived, either directly or indirectly, from the built-in `Exception` class.\n",
    "- Most of the built-in exceptions are also derived from this class."
   ]
  },
  {
   "cell_type": "code",
   "execution_count": null,
   "metadata": {
    "tags": []
   },
   "outputs": [],
   "source": [
    "class MyError(Exception):\n",
    "  \n",
    "    # Constructor or Initializer\n",
    "    def __init__(self, value):\n",
    "        self.value = value\n",
    "  \n",
    "    # __str__ is to print() the value\n",
    "    def __str__(self):\n",
    "        return(self.value)"
   ]
  },
  {
   "cell_type": "code",
   "execution_count": null,
   "metadata": {
    "tags": []
   },
   "outputs": [],
   "source": [
    "try:\n",
    "    raise(MyError(3*2))\n",
    "except MyError as error:\n",
    "    print('A New Exception occured: ',error.value)"
   ]
  }
 ],
 "metadata": {
  "kernelspec": {
   "display_name": "Python 3",
   "language": "python",
   "name": "python3"
  },
  "language_info": {
   "codemirror_mode": {
    "name": "ipython",
    "version": 3
   },
   "file_extension": ".py",
   "mimetype": "text/x-python",
   "name": "python",
   "nbconvert_exporter": "python",
   "pygments_lexer": "ipython3",
   "version": "3.8.5"
  }
 },
 "nbformat": 4,
 "nbformat_minor": 5
}
