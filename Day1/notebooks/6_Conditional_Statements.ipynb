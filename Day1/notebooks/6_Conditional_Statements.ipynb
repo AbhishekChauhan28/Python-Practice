{
 "cells": [
  {
   "cell_type": "markdown",
   "metadata": {},
   "source": [
    "# Introduction\n",
    "- Decision making is required when we want to execute a code only if a certain condition is satisfied."
   ]
  },
  {
   "cell_type": "markdown",
   "metadata": {
    "tags": []
   },
   "source": [
    "# `if`\n",
    "`if` there is exam tomorrow, I will stay at home to study"
   ]
  },
  {
   "cell_type": "code",
   "execution_count": null,
   "metadata": {
    "tags": []
   },
   "outputs": [],
   "source": [
    "exam = True\n",
    "if exam == True:\n",
    "    print(\"I will stay at home to study\")\n",
    "    print(\"Oh!!!\")\n",
    "print(\"Not in if block\")"
   ]
  },
  {
   "cell_type": "code",
   "execution_count": null,
   "metadata": {},
   "outputs": [],
   "source": [
    "if exam == True:\n",
    "    print(\"I will stay at home to study\")\n",
    "    print(\"Oh!!!\")\n",
    "print()"
   ]
  },
  {
   "cell_type": "markdown",
   "metadata": {
    "tags": []
   },
   "source": [
    "## Syntax for if"
   ]
  },
  {
   "cell_type": "markdown",
   "metadata": {
    "tags": []
   },
   "source": [
    "> `if` boolean_expression`:`<br>\n",
    ">>    statements<br>\n",
    ">>    \\# this block of code will be executed if boolean_expression returns `True`<br> "
   ]
  },
  {
   "cell_type": "markdown",
   "metadata": {
    "tags": []
   },
   "source": [
    "# `if...else`\n",
    "`if` there is exam tomorrow, I will stay at home to study; `else` I will play football on the playground"
   ]
  },
  {
   "cell_type": "code",
   "execution_count": null,
   "metadata": {
    "tags": []
   },
   "outputs": [],
   "source": [
    "exam = True\n",
    "if exam == True:\n",
    "    print(\"I will stay at home to study\")\n",
    "    print(\"Oh :(\")\n",
    "else:\n",
    "    print(\"I will play football on the playground\")"
   ]
  },
  {
   "cell_type": "markdown",
   "metadata": {
    "tags": []
   },
   "source": [
    "## Syntax for if else"
   ]
  },
  {
   "cell_type": "markdown",
   "metadata": {
    "tags": []
   },
   "source": [
    "> `if` boolean_expression`:`<br>\n",
    ">>    statements<br>\n",
    ">>    \\# this block of code will be executed if boolean_expression returns `True`<br>\n",
    "\n",
    "> `else:`<br>\n",
    ">>    statements<br>\n",
    ">>    \\# this block of code will be executed if boolean_expression returns `False`<br>  "
   ]
  },
  {
   "cell_type": "markdown",
   "metadata": {
    "tags": []
   },
   "source": [
    "## Example\n",
    "- Write a program to find whether a number is even or odd."
   ]
  },
  {
   "cell_type": "code",
   "execution_count": null,
   "metadata": {
    "tags": []
   },
   "outputs": [],
   "source": [
    "num = int(input(\"Enter a number: \"))\n",
    "\n",
    "if num % 2 == 0:\n",
    "    print(num, \"is even number\")\n",
    "    print(\"yay!!\")\n",
    "else:\n",
    "    print(num, \"is odd number\")\n",
    "    print(\"Oh!!\")"
   ]
  },
  {
   "cell_type": "markdown",
   "metadata": {
    "tags": []
   },
   "source": [
    "# Nested `if...else`"
   ]
  },
  {
   "cell_type": "markdown",
   "metadata": {
    "tags": []
   },
   "source": [
    "Syntax:\n",
    "> `if` boolean_expression 1`:`<br>\n",
    ">>    statements<br>\n",
    ">>    \\# this block of code will be executed if boolean_expression 1 returns `True`<br>\n",
    "\n",
    "> `elif` boolean_expression 2 `:`<br>\n",
    ">>    statements<br>\n",
    ">>    \\# this block of code will be executed if boolean_expression 1 returns `False` and boolean_expression 2 returns `True` <br>\n",
    "\n",
    "> `elif` boolean_expression 3 `:`<br>\n",
    ">>    statements<br>\n",
    ">>    \\# this block of code will be executed if boolean_expression 1 & 2 returns `False` and boolean_expression 3 returns `True`<br>\n",
    "\n",
    ">**.**<br>\n",
    ">**.**<br>\n",
    ">**.**<br>\n",
    "\n",
    "> `else:`<br>\n",
    ">>    statements<br>\n",
    ">>    \\# this block of code will be executed if all boolean_expression returns `False`<br>  "
   ]
  },
  {
   "cell_type": "markdown",
   "metadata": {
    "tags": []
   },
   "source": [
    "## Example"
   ]
  },
  {
   "cell_type": "markdown",
   "metadata": {
    "tags": []
   },
   "source": [
    "Write a program to decide whether to watch a movie based on its rating (Rating is given out of 5)\n",
    "- Movie is a must watch if rating is 4 and above\n",
    "- Movie can be watched once if rating is 2.5 and above but less than 4\n",
    "- Don't watch the movie if rating is less than 2.5"
   ]
  },
  {
   "cell_type": "code",
   "execution_count": null,
   "metadata": {
    "tags": []
   },
   "outputs": [],
   "source": [
    "rating = float(input(\"Enter movie rating(Out of 5): \"))\n",
    "\n",
    "if rating >= 4:\n",
    "    print(\"it is a good move\")\n",
    "    print(\"Must watch\")\n",
    "elif rating >= 2.5 and rating < 4:\n",
    "    print(\"Okay movie\")\n",
    "    print(\"you can watch it once\")\n",
    "elif rating < 2.5:\n",
    "    print(\"Don't watch :(\")\n",
    "    "
   ]
  },
  {
   "cell_type": "markdown",
   "metadata": {
    "tags": []
   },
   "source": [
    "# Ternary operator\n",
    "- It simply allows to test a condition in a single line replacing the multiline if-else making the code compact"
   ]
  },
  {
   "cell_type": "markdown",
   "metadata": {
    "tags": []
   },
   "source": [
    "statement1  `if` expression `else` statement2"
   ]
  },
  {
   "cell_type": "code",
   "execution_count": null,
   "metadata": {
    "tags": []
   },
   "outputs": [],
   "source": [
    "age = 15\n",
    "print('kid' if age < 18 else 'adult')"
   ]
  }
 ],
 "metadata": {
  "kernelspec": {
   "display_name": "Python 3",
   "language": "python",
   "name": "python3"
  },
  "language_info": {
   "codemirror_mode": {
    "name": "ipython",
    "version": 3
   },
   "file_extension": ".py",
   "mimetype": "text/x-python",
   "name": "python",
   "nbconvert_exporter": "python",
   "pygments_lexer": "ipython3",
   "version": "3.8.5"
  },
  "toc-autonumbering": true,
  "toc-showcode": false,
  "toc-showmarkdowntxt": false
 },
 "nbformat": 4,
 "nbformat_minor": 5
}
