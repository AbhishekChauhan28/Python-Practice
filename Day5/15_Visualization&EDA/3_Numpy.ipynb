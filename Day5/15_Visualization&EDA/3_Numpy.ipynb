{
 "cells": [
  {
   "cell_type": "markdown",
   "id": "a4dac9c3",
   "metadata": {},
   "source": [
    "# Introduction\n",
    "- At the core of the NumPy package, is the ndarray object. is the ndarray object. This encapsulates n-dimensional arrays of homogeneous data types, with many operations being performed in compiled code for performance.\n",
    "- NumPy arrays have a fixed size at creation, unlike Python lists (which can grow dynamically). Changing the size of an ndarray will create a new array and delete the original.\n",
    "- The elements in a NumPy array are all required to be of the same data type, and thus will be the same size in memory. \n",
    "- NumPy arrays facilitate advanced mathematical and other types of operations on large numbers of data. Typically, such operations are executed more efficiently and with less code than is possible using Python’s built-in sequences."
   ]
  },
  {
   "cell_type": "markdown",
   "id": "b57bfa46",
   "metadata": {},
   "source": [
    "## Why is NumPy Fast?\n",
    "- Vectorization describes the absence of any explicit looping, indexing, etc., in the code - these things are taking place, of course, just “behind the scenes” in optimized, pre-compiled C code. Vectorized code has many advantages, among which are:\n",
    "\n",
    "    - vectorized code is more concise and easier to read\n",
    "    - fewer lines of code generally means fewer bugs\n",
    "    - the code more closely resembles standard mathematical notation (making it easier, typically, to correctly code mathematical constructs)\n",
    "    - vectorization results in more “Pythonic” code. Without vectorization, our code would be littered with inefficient and difficult to read for loops."
   ]
  },
  {
   "cell_type": "code",
   "execution_count": null,
   "id": "91ccbee6",
   "metadata": {},
   "outputs": [],
   "source": [
    "import numpy as np"
   ]
  },
  {
   "cell_type": "code",
   "execution_count": null,
   "id": "6b05017c",
   "metadata": {},
   "outputs": [],
   "source": [
    "arr = np.array([1, 2, 3, 4, 5]) #pass list or tuple"
   ]
  },
  {
   "cell_type": "code",
   "execution_count": null,
   "id": "fb493d09",
   "metadata": {},
   "outputs": [],
   "source": [
    "print(arr)"
   ]
  },
  {
   "cell_type": "code",
   "execution_count": null,
   "id": "c2203b90",
   "metadata": {},
   "outputs": [],
   "source": [
    "type(arr)"
   ]
  },
  {
   "cell_type": "code",
   "execution_count": null,
   "id": "c116aa68",
   "metadata": {},
   "outputs": [],
   "source": [
    "len(arr)"
   ]
  },
  {
   "cell_type": "code",
   "execution_count": null,
   "id": "5fd3452f",
   "metadata": {},
   "outputs": [],
   "source": [
    "arr.shape"
   ]
  },
  {
   "cell_type": "code",
   "execution_count": null,
   "id": "96a2f183",
   "metadata": {},
   "outputs": [],
   "source": [
    "arr2d = np.array([[1, 2, 3], [4, 5, 6]]) # 2d arrays"
   ]
  },
  {
   "cell_type": "code",
   "execution_count": null,
   "id": "681cbab2",
   "metadata": {},
   "outputs": [],
   "source": [
    "arr2d"
   ]
  },
  {
   "cell_type": "code",
   "execution_count": null,
   "id": "24fe3649",
   "metadata": {},
   "outputs": [],
   "source": [
    "arr2d.shape #  array has 2 dimensions, and each dimension has 3 elements."
   ]
  },
  {
   "cell_type": "code",
   "execution_count": null,
   "id": "1493d225",
   "metadata": {},
   "outputs": [],
   "source": [
    "arr3d = np.array([[[1, 2, 3], [4, 5, 6]], [[1, 2, 3], [4, 5, 6]]]) # 3d arrays"
   ]
  },
  {
   "cell_type": "code",
   "execution_count": null,
   "id": "3a5c3c5f",
   "metadata": {},
   "outputs": [],
   "source": [
    "arr3d"
   ]
  },
  {
   "cell_type": "code",
   "execution_count": null,
   "id": "dd568ce9",
   "metadata": {},
   "outputs": [],
   "source": [
    "arr3d.ndim"
   ]
  },
  {
   "cell_type": "code",
   "execution_count": null,
   "id": "a63728b5",
   "metadata": {},
   "outputs": [],
   "source": [
    "arr3d.shape # The shape of an array is the number of elements in each dimension."
   ]
  },
  {
   "cell_type": "markdown",
   "id": "41c354f1",
   "metadata": {},
   "source": [
    "- Access array elements using indexing.\n",
    "- Also slicing can be performed on arrays."
   ]
  },
  {
   "cell_type": "markdown",
   "id": "6b02e102",
   "metadata": {},
   "source": [
    "# `arange()`\n",
    "- Return evenly spaced values within a given interval."
   ]
  },
  {
   "cell_type": "code",
   "execution_count": null,
   "id": "7d6696ff",
   "metadata": {},
   "outputs": [],
   "source": [
    "arr = np.arange(10)"
   ]
  },
  {
   "cell_type": "code",
   "execution_count": null,
   "id": "d576e78e",
   "metadata": {},
   "outputs": [],
   "source": [
    "arr"
   ]
  },
  {
   "cell_type": "markdown",
   "id": "40331705",
   "metadata": {},
   "source": [
    "# `reshape()`\n",
    "- Gives a new shape to an array without changing its data."
   ]
  },
  {
   "cell_type": "code",
   "execution_count": null,
   "id": "d5dadfcb",
   "metadata": {},
   "outputs": [],
   "source": [
    "arr = np.arange(16)"
   ]
  },
  {
   "cell_type": "code",
   "execution_count": null,
   "id": "3ef16c82",
   "metadata": {},
   "outputs": [],
   "source": [
    "arr.reshape(8,2)"
   ]
  },
  {
   "cell_type": "code",
   "execution_count": null,
   "id": "2ed4ede3",
   "metadata": {},
   "outputs": [],
   "source": [
    "np.reshape(arr,(2,-1))"
   ]
  },
  {
   "cell_type": "markdown",
   "id": "1d65f51c",
   "metadata": {},
   "source": [
    "# `linspace()`\n",
    "- Function returns evenly spaced numbers over a specified interval defined by the first two arguments of the function (start and stop)"
   ]
  },
  {
   "cell_type": "code",
   "execution_count": null,
   "id": "f7880cbe",
   "metadata": {},
   "outputs": [],
   "source": [
    "np.linspace(10,20, num=100)"
   ]
  },
  {
   "cell_type": "markdown",
   "id": "2fcd088c",
   "metadata": {},
   "source": [
    "# `repeat()`\n",
    "- function repeats the elements of an array. The number of repetitions is specified by the second argument repeats.\n"
   ]
  },
  {
   "cell_type": "code",
   "execution_count": null,
   "id": "afb0f8be",
   "metadata": {},
   "outputs": [],
   "source": [
    "np.repeat(3,5)"
   ]
  },
  {
   "cell_type": "markdown",
   "id": "aee2b903",
   "metadata": {},
   "source": [
    "# `random.randint()`\n",
    "- Returns random integers from the interval"
   ]
  },
  {
   "cell_type": "code",
   "execution_count": null,
   "id": "b649849e",
   "metadata": {},
   "outputs": [],
   "source": [
    "np.random.randint(10,100, size=2)"
   ]
  },
  {
   "cell_type": "markdown",
   "id": "a683f117",
   "metadata": {},
   "source": [
    "https://www.machinelearningplus.com/101-numpy-exercises-python/"
   ]
  }
 ],
 "metadata": {
  "kernelspec": {
   "display_name": "Python 3",
   "language": "python",
   "name": "python3"
  },
  "language_info": {
   "codemirror_mode": {
    "name": "ipython",
    "version": 3
   },
   "file_extension": ".py",
   "mimetype": "text/x-python",
   "name": "python",
   "nbconvert_exporter": "python",
   "pygments_lexer": "ipython3",
   "version": "3.8.8"
  }
 },
 "nbformat": 4,
 "nbformat_minor": 5
}
