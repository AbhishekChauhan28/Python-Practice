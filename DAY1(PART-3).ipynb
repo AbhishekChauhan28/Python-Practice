{
 "cells": [
  {
   "cell_type": "markdown",
   "metadata": {},
   "source": [
    "# Given a dictionary of students and their favorite colors:\n",
    "    people= {'Arham':'Blue',\n",
    "    'Lisa':'Yellow',\n",
    "    'Vinod':'Purple',\n",
    "    'Jenny':'Pink'}\n",
    "        a. Find out how many students are in the dictionary.\n",
    "        b. Change Lisa’s favorite colour.\n",
    "        c. Remove 'Jenny' and her favourite colour."
   ]
  },
  {
   "cell_type": "code",
   "execution_count": 1,
   "metadata": {},
   "outputs": [],
   "source": [
    "people = {'Arham':'Blue', 'Lisa':'Yellow', 'Vinod':'Purple', 'Jenny':'Pink'}"
   ]
  },
  {
   "cell_type": "code",
   "execution_count": 4,
   "metadata": {},
   "outputs": [
    {
     "data": {
      "text/plain": [
       "dict_keys(['Arham', 'Lisa', 'Vinod', 'Jenny'])"
      ]
     },
     "execution_count": 4,
     "metadata": {},
     "output_type": "execute_result"
    }
   ],
   "source": [
    "people.keys()"
   ]
  },
  {
   "cell_type": "code",
   "execution_count": 6,
   "metadata": {},
   "outputs": [
    {
     "name": "stdout",
     "output_type": "stream",
     "text": [
      "4\n"
     ]
    }
   ],
   "source": [
    "print(len(people.keys()))"
   ]
  },
  {
   "cell_type": "code",
   "execution_count": 10,
   "metadata": {},
   "outputs": [],
   "source": [
    "people['Lisa'] = 'Black'"
   ]
  },
  {
   "cell_type": "code",
   "execution_count": 11,
   "metadata": {},
   "outputs": [
    {
     "data": {
      "text/plain": [
       "{'Arham': 'Blue', 'Lisa': 'Black', 'Vinod': 'Purple', 'Jenny': 'Pink'}"
      ]
     },
     "execution_count": 11,
     "metadata": {},
     "output_type": "execute_result"
    }
   ],
   "source": [
    "people"
   ]
  },
  {
   "cell_type": "code",
   "execution_count": 12,
   "metadata": {},
   "outputs": [
    {
     "data": {
      "text/plain": [
       "'Pink'"
      ]
     },
     "execution_count": 12,
     "metadata": {},
     "output_type": "execute_result"
    }
   ],
   "source": [
    "people.pop('Jenny')"
   ]
  },
  {
   "cell_type": "code",
   "execution_count": 13,
   "metadata": {},
   "outputs": [
    {
     "data": {
      "text/plain": [
       "{'Arham': 'Blue', 'Lisa': 'Black', 'Vinod': 'Purple'}"
      ]
     },
     "execution_count": 13,
     "metadata": {},
     "output_type": "execute_result"
    }
   ],
   "source": [
    "people"
   ]
  },
  {
   "cell_type": "markdown",
   "metadata": {},
   "source": [
    "# Write a program that takes a string as input and builds a frequency listing of the characters contained in it. Represent the frequency listing as a Python dictionary.\n",
    "    Example:\n",
    "       Input String: “Leader”\n",
    "       Output Dictionary: {‘L’:1, ‘a’:1, ‘d’:1, ‘e’:2, ‘r’:1}"
   ]
  },
  {
   "cell_type": "code",
   "execution_count": 33,
   "metadata": {},
   "outputs": [
    {
     "name": "stdin",
     "output_type": "stream",
     "text": [
      "Enter a string :  Hello My Self Abhishek\n"
     ]
    }
   ],
   "source": [
    "string = input(\"Enter a string : \")"
   ]
  },
  {
   "cell_type": "code",
   "execution_count": 34,
   "metadata": {},
   "outputs": [
    {
     "name": "stdout",
     "output_type": "stream",
     "text": [
      "{'H': 1, 'e': 3, 'l': 3, 'o': 1, ' ': 3, 'M': 1, 'y': 1, 'S': 1, 'f': 1, 'A': 1, 'b': 1, 'h': 2, 'i': 1, 's': 1, 'k': 1}\n"
     ]
    }
   ],
   "source": [
    "def char_freq(I) :\n",
    "    d = {}\n",
    "    for i in (range(len(I))) :\n",
    "        if I[i] in d :\n",
    "            d[I[i]] = int(d.get(I[i])) + 1\n",
    "        else :\n",
    "            d[I[i]] = 1\n",
    "    return d\n",
    "n = char_freq(string)\n",
    "print(n)"
   ]
  },
  {
   "cell_type": "markdown",
   "metadata": {},
   "source": [
    "# A website requires the users to input username and password to register. Write a program to check the validity of password input by users. Following are the criteria for checking the password:\n",
    "     a. At least 1 letter between [a-z]\n",
    "     b. At least 1 number between [0-9]\n",
    "     c. At least 1 letter between [A-Z]\n",
    "     d. At least 1 character from [$#@]\n",
    "     e. Minimum length of transaction password: 6\n",
    "     f. Maximum length of transaction password: 12\n",
    "     g. No white spaces anywhere in the password. \n",
    "Your program should accept 5 comma separated passwords in one string and will check them according to the above criteria. Passwords that match the criteria are to be printed on screen."
   ]
  },
  {
   "cell_type": "code",
   "execution_count": 58,
   "metadata": {},
   "outputs": [
    {
     "name": "stdin",
     "output_type": "stream",
     "text": [
      "Input the password :  Abhishek89@\n"
     ]
    }
   ],
   "source": [
    "passwd = input(\"Input the password : \")\n",
    "flag = passwd.split(\",\");\n",
    "special_character = ['$', '#', '@']\n",
    "valid = []"
   ]
  },
  {
   "cell_type": "code",
   "execution_count": 59,
   "metadata": {},
   "outputs": [
    {
     "name": "stdout",
     "output_type": "stream",
     "text": [
      "['Abhishek89@']\n"
     ]
    }
   ],
   "source": [
    "for x in flag :\n",
    "    if len(x) < 6 or len(x) > 12 :\n",
    "        continue\n",
    "    if x.isupper() or x.islower() :\n",
    "        continue\n",
    "    has_number = any(char.isdigit() for char in x)\n",
    "    if not has_number :\n",
    "        continue\n",
    "    has_char = any(char in special_character for char in x)\n",
    "    if(not has_char):\n",
    "        continue\n",
    "    valid.append(x)\n",
    "print(valid)"
   ]
  },
  {
   "cell_type": "markdown",
   "metadata": {},
   "source": [
    "# Write a program that maps a list of words into a list of integers representing the lengths of the corresponding words"
   ]
  },
  {
   "cell_type": "code",
   "execution_count": 62,
   "metadata": {},
   "outputs": [
    {
     "name": "stdin",
     "output_type": "stream",
     "text": [
      "List of word :  Hello Abhishek\n"
     ]
    }
   ],
   "source": [
    "words = input(\"List of word : \").split()\n",
    "integer = []"
   ]
  },
  {
   "cell_type": "code",
   "execution_count": 63,
   "metadata": {},
   "outputs": [
    {
     "name": "stdout",
     "output_type": "stream",
     "text": [
      "List of word length : [5, 8]\n"
     ]
    }
   ],
   "source": [
    "for i in range(len(words)):\n",
    "    integer.append(len(words[i]))\n",
    "print(\"List of word length : \" +str(integer))"
   ]
  },
  {
   "cell_type": "markdown",
   "metadata": {},
   "source": [
    "# Make a two-player Rock-Paper-Scissors game. Ask for input from players, compare them, print out a message of congratulations to the winner.\n",
    "    Remember the rules:\n",
    "     • Rock beats scissors\n",
    "     • Scissors beats paper\n",
    "     • Paper beats rock"
   ]
  },
  {
   "cell_type": "code",
   "execution_count": 6,
   "metadata": {},
   "outputs": [
    {
     "name": "stdin",
     "output_type": "stream",
     "text": [
      "What's your name? Abhishek\n",
      "And your name? Ayushi\n",
      "Abhishek, do yo want to choose rock, paper or scissors? rock\n",
      "Ayushi, do you want to choose rock, paper or scissors? paper\n"
     ]
    }
   ],
   "source": [
    "import sys\n",
    "\n",
    "user1 = input(\"What's your name?\")\n",
    "user2 = input(\"And your name?\")\n",
    "user1_answer = input(\"%s, do yo want to choose rock, paper or scissors?\" % user1)\n",
    "user2_answer = input(\"%s, do you want to choose rock, paper or scissors?\" % user2)"
   ]
  },
  {
   "cell_type": "code",
   "execution_count": 7,
   "metadata": {},
   "outputs": [
    {
     "name": "stdout",
     "output_type": "stream",
     "text": [
      "Paper wins!\n"
     ]
    }
   ],
   "source": [
    "def compare(u1, u2):\n",
    "    if u1 == u2:\n",
    "        return(\"It's a tie!\")\n",
    "    elif u1 == 'rock':\n",
    "        if u2 == 'scissors':\n",
    "            return(\"Rock wins!\")\n",
    "        else:\n",
    "            return(\"Paper wins!\")\n",
    "    elif u1 == 'scissors':\n",
    "        if u2 == 'paper':\n",
    "            return(\"Scissors win!\")\n",
    "        else:\n",
    "            return(\"Rock wins!\")\n",
    "    elif u1 == 'paper':\n",
    "        if u2 == 'rock':\n",
    "            return(\"Paper wins!\")\n",
    "        else:\n",
    "            return(\"Scissors win!\")\n",
    "    else:\n",
    "        return(\"Invalid input! You have not entered rock, paper or scissors, try again.\")\n",
    "        sys.exit()\n",
    "\n",
    "print(compare(user1_answer, user2_answer))"
   ]
  },
  {
   "cell_type": "code",
   "execution_count": null,
   "metadata": {},
   "outputs": [],
   "source": []
  }
 ],
 "metadata": {
  "kernelspec": {
   "display_name": "Python 3",
   "language": "python",
   "name": "python3"
  },
  "language_info": {
   "codemirror_mode": {
    "name": "ipython",
    "version": 3
   },
   "file_extension": ".py",
   "mimetype": "text/x-python",
   "name": "python",
   "nbconvert_exporter": "python",
   "pygments_lexer": "ipython3",
   "version": "3.8.10"
  }
 },
 "nbformat": 4,
 "nbformat_minor": 4
}
