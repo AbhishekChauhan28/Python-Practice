{
 "cells": [
  {
   "cell_type": "markdown",
   "metadata": {
    "tags": []
   },
   "source": [
    "# Introduction\n",
    "- A function is a block of code which only runs when it is called and carries out some specific, well-defined task.\n",
    "- You can pass data, known as parameters, into a function.\n",
    "- A function can return data as a result.\n",
    "- In Python a function is defined using the `def` keyword"
   ]
  },
  {
   "cell_type": "markdown",
   "metadata": {
    "tags": []
   },
   "source": [
    "## Creating Function"
   ]
  },
  {
   "cell_type": "code",
   "execution_count": null,
   "metadata": {
    "tags": []
   },
   "outputs": [],
   "source": [
    "# Function to print \"Hello World\"\n",
    "def hello_world():\n",
    "    print(\"Hello World\")\n",
    "    print(\"Good Morning\")"
   ]
  },
  {
   "cell_type": "markdown",
   "metadata": {
    "tags": []
   },
   "source": [
    "## Calling the function"
   ]
  },
  {
   "cell_type": "code",
   "execution_count": null,
   "metadata": {
    "tags": []
   },
   "outputs": [],
   "source": [
    "hello_world()"
   ]
  },
  {
   "cell_type": "markdown",
   "metadata": {
    "tags": []
   },
   "source": [
    "## Example\n",
    "- Write a function to find whether the given number is Armstrong number or not\n",
    "Armstrong number is a number that is equal to the sum of the cubes of its own digits. \n",
    "<pre>For ex: 370 = 3*3*3 + 7*7*7 + 0*0*0</pre>"
   ]
  },
  {
   "cell_type": "code",
   "execution_count": null,
   "metadata": {
    "tags": []
   },
   "outputs": [],
   "source": [
    "def armstrong_number():\n",
    "    num = int(input(\"Enter a number: \"))\n",
    "    value = 0\n",
    "\n",
    "    # find the sum of the cube of each digit\n",
    "    temp = num\n",
    "    while temp > 0:\n",
    "        digit = temp % 10\n",
    "        value = value +  digit ** 3\n",
    "        temp = temp // 10\n",
    "\n",
    "    # display the result\n",
    "    if num == value:\n",
    "        print(num,\"is an Armstrong number\")\n",
    "    else:\n",
    "        print(num,\"is not an Armstrong number\")"
   ]
  },
  {
   "cell_type": "code",
   "execution_count": null,
   "metadata": {
    "tags": []
   },
   "outputs": [],
   "source": [
    "armstrong_number()"
   ]
  },
  {
   "cell_type": "markdown",
   "metadata": {
    "tags": []
   },
   "source": [
    "# Arguments"
   ]
  },
  {
   "cell_type": "markdown",
   "metadata": {
    "tags": []
   },
   "source": [
    "- Information can be passed into functions as arguments.\n",
    "- Arguments are specified after the function name, inside the parentheses. You can add as many arguments as you want, separated with a comma.\n",
    "- Arguments are also known as **Parameters**"
   ]
  },
  {
   "cell_type": "markdown",
   "metadata": {
    "tags": []
   },
   "source": [
    "## Example\n",
    "- Write a program Find out whether the given number is Armstrong number or not\n",
    "Armstrong number is a number that is equal to the sum of the cubes of its own digits. \n",
    "<pre>For ex: 370 = 3*3*3 + 7*7*7 + 0*0*0</pre>\n",
    "- Write a function to calculate Armstrong Number, pass the number to this function to analyze."
   ]
  },
  {
   "cell_type": "code",
   "execution_count": 6,
   "metadata": {
    "tags": []
   },
   "outputs": [],
   "source": [
    "def armstrong_number1(num):\n",
    "    value = 0\n",
    "\n",
    "    # find the sum of the cube of each digit\n",
    "    temp = num\n",
    "    while temp > 0:\n",
    "        digit = temp % 10\n",
    "        value = value +  digit ** 3\n",
    "        temp = temp // 10\n",
    "\n",
    "    # display the result\n",
    "    if num == value:\n",
    "        print(num,\"is an Armstrong number\")\n",
    "    else:\n",
    "        print(num,\"is not an Armstrong number\")"
   ]
  },
  {
   "cell_type": "code",
   "execution_count": 7,
   "metadata": {
    "tags": []
   },
   "outputs": [
    {
     "name": "stdout",
     "output_type": "stream",
     "text": [
      "370 is an Armstrong number\n"
     ]
    }
   ],
   "source": [
    "armstrong_number1(370)"
   ]
  },
  {
   "cell_type": "markdown",
   "metadata": {
    "tags": []
   },
   "source": [
    "## Number of Arguments\n",
    "- By default, a function must be called with the correct number of arguments. Meaning that if your function expects 2 arguments, you have to call the function with 2 arguments, not more, and not less."
   ]
  },
  {
   "cell_type": "code",
   "execution_count": null,
   "metadata": {
    "tags": []
   },
   "outputs": [],
   "source": [
    "# For example:\n",
    "# Function to print first name and last name together\n",
    "\n",
    "def my_function(fname, lname):\n",
    "    print(fname + \" \" + lname)"
   ]
  },
  {
   "cell_type": "code",
   "execution_count": null,
   "metadata": {
    "tags": []
   },
   "outputs": [],
   "source": [
    "# Passing actual number of arguments\n",
    "my_function(\"Jon\", \"Snow\")"
   ]
  },
  {
   "cell_type": "code",
   "execution_count": null,
   "metadata": {
    "tags": []
   },
   "outputs": [],
   "source": [
    "# Passing less arguments than actual\n",
    "my_function(\"Jon\")"
   ]
  },
  {
   "cell_type": "code",
   "execution_count": null,
   "metadata": {
    "tags": []
   },
   "outputs": [],
   "source": [
    "# Passing more arguments than actual\n",
    "my_function(\"Jon\", \"Snow\",\"King\")"
   ]
  },
  {
   "cell_type": "markdown",
   "metadata": {
    "tags": []
   },
   "source": [
    "## Arbitrary Arguments `*args`\n",
    "- If you do not know how many arguments that will be passed into your function, add a * before the parameter name in the function definition.\n",
    "- This way the function will receive a tuple of arguments, and can access the items accordingly"
   ]
  },
  {
   "cell_type": "code",
   "execution_count": 8,
   "metadata": {
    "tags": []
   },
   "outputs": [],
   "source": [
    "# For Example\n",
    "# Write a function to list the count and titles of books you got.\n",
    "\n",
    "def my_books(*books):\n",
    "    print(\"I have {0} books\".format(len(books)))\n",
    "    print(\"Following are their names:\")\n",
    "    for i in books:\n",
    "        print('\\t', i)"
   ]
  },
  {
   "cell_type": "code",
   "execution_count": 9,
   "metadata": {
    "tags": []
   },
   "outputs": [
    {
     "name": "stdout",
     "output_type": "stream",
     "text": [
      "I have 2 books\n",
      "Following are their names:\n",
      "\t A Game of Thrones\n",
      "\t War and Peace\n"
     ]
    }
   ],
   "source": [
    "my_books(\"A Game of Thrones\", \"War and Peace\")"
   ]
  },
  {
   "cell_type": "code",
   "execution_count": 10,
   "metadata": {
    "tags": []
   },
   "outputs": [
    {
     "name": "stdout",
     "output_type": "stream",
     "text": [
      "I have 4 books\n",
      "Following are their names:\n",
      "\t A Tale of Two Cities\n",
      "\t The Stranger\n",
      "\t Hamlet\n",
      "\t The Road\n"
     ]
    }
   ],
   "source": [
    "my_books(\"A Tale of Two Cities\", \"The Stranger\", \"Hamlet\", \"The Road\")"
   ]
  },
  {
   "cell_type": "markdown",
   "metadata": {
    "tags": []
   },
   "source": [
    "## Keyword Arguments\n",
    "- Arguments can also be defined with the `key = value` syntax.\n",
    "- This way the order of the arguments does not matter."
   ]
  },
  {
   "cell_type": "code",
   "execution_count": 11,
   "metadata": {
    "tags": []
   },
   "outputs": [],
   "source": [
    "# For Example\n",
    "# Write a function to print personal information of a employee\n",
    "\n",
    "def emp_info(name, age, gender):\n",
    "    print(\"Employee name: \" + name)\n",
    "    print(\"Age: \" + str(age))\n",
    "    print(\"Gender: \"+ gender)"
   ]
  },
  {
   "cell_type": "code",
   "execution_count": 12,
   "metadata": {
    "tags": []
   },
   "outputs": [
    {
     "name": "stdout",
     "output_type": "stream",
     "text": [
      "Employee name: Rohit\n",
      "Age: 30\n",
      "Gender: Male\n"
     ]
    }
   ],
   "source": [
    "emp_info(age = 30, name=\"Rohit\", gender=\"Male\" )"
   ]
  },
  {
   "cell_type": "code",
   "execution_count": 13,
   "metadata": {
    "tags": []
   },
   "outputs": [
    {
     "ename": "TypeError",
     "evalue": "emp_info() missing 1 required positional argument: 'gender'",
     "output_type": "error",
     "traceback": [
      "\u001b[1;31m---------------------------------------------------------------------------\u001b[0m",
      "\u001b[1;31mTypeError\u001b[0m                                 Traceback (most recent call last)",
      "\u001b[1;32m<ipython-input-13-db8485bf30c8>\u001b[0m in \u001b[0;36m<module>\u001b[1;34m\u001b[0m\n\u001b[1;32m----> 1\u001b[1;33m \u001b[0memp_info\u001b[0m\u001b[1;33m(\u001b[0m\u001b[1;34m\"Rohit\"\u001b[0m\u001b[1;33m,\u001b[0m \u001b[1;34m\"Male\"\u001b[0m\u001b[1;33m)\u001b[0m\u001b[1;33m\u001b[0m\u001b[1;33m\u001b[0m\u001b[0m\n\u001b[0m",
      "\u001b[1;31mTypeError\u001b[0m: emp_info() missing 1 required positional argument: 'gender'"
     ]
    }
   ],
   "source": [
    "emp_info(\"Rohit\", \"Male\")"
   ]
  },
  {
   "cell_type": "markdown",
   "metadata": {
    "tags": []
   },
   "source": [
    "## Arbitrary Keyword Arguments `**kwargs`\n",
    "- If you do not know how many keyword arguments that will be passed into your function, add two asterisk `**` before the parameter name in the function definition.\n",
    "- This way the function will receive a dictionary of arguments, and can access the items accordingly"
   ]
  },
  {
   "cell_type": "code",
   "execution_count": 14,
   "metadata": {
    "tags": []
   },
   "outputs": [],
   "source": [
    "# For Example\n",
    "# Write a function to print information of a employee\n",
    "\n",
    "def emp_details(**emp_info):\n",
    "    for i in emp_info:\n",
    "        print(i,':',emp_info[i])"
   ]
  },
  {
   "cell_type": "code",
   "execution_count": 15,
   "metadata": {
    "tags": []
   },
   "outputs": [
    {
     "name": "stdout",
     "output_type": "stream",
     "text": [
      "name : Rohit\n",
      "age : 30\n",
      "department : Development\n",
      "Expertise : Python\n"
     ]
    }
   ],
   "source": [
    "emp_details(name=\"Rohit\", age=\"30\", department=\"Development\", Expertise=\"Python\")"
   ]
  },
  {
   "cell_type": "markdown",
   "metadata": {
    "tags": []
   },
   "source": [
    "## Default Parameter Value\n",
    "- Mention the argument value in the function definition itself\n",
    "- If we call the function without argument, it uses the default value."
   ]
  },
  {
   "cell_type": "code",
   "execution_count": 16,
   "metadata": {
    "tags": []
   },
   "outputs": [],
   "source": [
    "# For Example\n",
    "# Write a function to print the name of city you belong\n",
    "\n",
    "def my_city(city=\"Bangalore\"):\n",
    "    print(\"I am from\", city)"
   ]
  },
  {
   "cell_type": "code",
   "execution_count": 17,
   "metadata": {
    "tags": []
   },
   "outputs": [
    {
     "name": "stdout",
     "output_type": "stream",
     "text": [
      "I am from Bangalore\n"
     ]
    }
   ],
   "source": [
    "my_city()"
   ]
  },
  {
   "cell_type": "code",
   "execution_count": 18,
   "metadata": {
    "tags": []
   },
   "outputs": [
    {
     "name": "stdout",
     "output_type": "stream",
     "text": [
      "I am from Mumbai\n"
     ]
    }
   ],
   "source": [
    "my_city(\"Mumbai\")"
   ]
  },
  {
   "cell_type": "markdown",
   "metadata": {
    "tags": []
   },
   "source": [
    "# Return Values\n",
    "- To let a function return a value, use the `return` statement.\n",
    "- Statements after return statement are not executed"
   ]
  },
  {
   "cell_type": "code",
   "execution_count": 1,
   "metadata": {
    "tags": []
   },
   "outputs": [],
   "source": [
    "# For example\n",
    "# Function to return cube of given number\n",
    "\n",
    "def cube(num):\n",
    "    cu = num ** 3\n",
    "    return cu"
   ]
  },
  {
   "cell_type": "code",
   "execution_count": 2,
   "metadata": {
    "tags": []
   },
   "outputs": [
    {
     "data": {
      "text/plain": [
       "729"
      ]
     },
     "execution_count": 2,
     "metadata": {},
     "output_type": "execute_result"
    }
   ],
   "source": [
    "cube(9)"
   ]
  },
  {
   "cell_type": "code",
   "execution_count": 3,
   "metadata": {
    "tags": []
   },
   "outputs": [],
   "source": [
    "nine_cube = cube(9)"
   ]
  },
  {
   "cell_type": "code",
   "execution_count": 4,
   "metadata": {
    "tags": []
   },
   "outputs": [
    {
     "data": {
      "text/plain": [
       "729"
      ]
     },
     "execution_count": 4,
     "metadata": {},
     "output_type": "execute_result"
    }
   ],
   "source": [
    "nine_cube"
   ]
  },
  {
   "cell_type": "markdown",
   "metadata": {
    "tags": []
   },
   "source": [
    "## Example\n",
    "- Write a program to find whether the given number is Armstrong number or not\n",
    "Armstrong number is a number that is equal to the sum of the cubes of its own digits. \n",
    "<pre>For ex: 370 = 3*3*3 + 7*7*7 + 0*0*0</pre>\n",
    "- Write a function to calculate Armstrong Number,pass the number to this function to analyze.\n",
    "- This function returns `True` if given number is Armstrong number, else `False`"
   ]
  },
  {
   "cell_type": "code",
   "execution_count": null,
   "metadata": {
    "tags": []
   },
   "outputs": [],
   "source": [
    "def armstrong_number2(num):\n",
    "    value = 0\n",
    "\n",
    "    # find the sum of the cube of each digit\n",
    "    temp = num\n",
    "    while temp > 0:\n",
    "        digit = temp % 10\n",
    "        value = value +  digit ** 3\n",
    "        temp = temp // 10\n",
    "    \n",
    "    # return the result\n",
    "    if num == value:\n",
    "        return True\n",
    "    else:\n",
    "        return False"
   ]
  },
  {
   "cell_type": "code",
   "execution_count": null,
   "metadata": {
    "tags": []
   },
   "outputs": [],
   "source": [
    "a = armstrong_number2(370)"
   ]
  },
  {
   "cell_type": "code",
   "execution_count": null,
   "metadata": {},
   "outputs": [],
   "source": [
    "a"
   ]
  },
  {
   "cell_type": "markdown",
   "metadata": {
    "tags": []
   },
   "source": [
    "# Recursion\n",
    "- Recursion means that a function calls itself. "
   ]
  },
  {
   "cell_type": "code",
   "execution_count": null,
   "metadata": {
    "tags": []
   },
   "outputs": [],
   "source": [
    "# For Example\n",
    "# Function to find factorial of given number\n",
    "\n",
    "def factorial(x):\n",
    "    if x == 1:\n",
    "        return 1\n",
    "    else:\n",
    "        return (x * factorial(x-1))"
   ]
  },
  {
   "cell_type": "code",
   "execution_count": null,
   "metadata": {
    "tags": []
   },
   "outputs": [],
   "source": [
    "num = 3\n",
    "factorial(num)"
   ]
  },
  {
   "cell_type": "markdown",
   "metadata": {
    "tags": []
   },
   "source": [
    "- Explanation for `factorial(3)`\n",
    "<pre>\n",
    "factorial(3)          # 1st call with 3\n",
    "3 * factorial(2)      # 2nd call with 2\n",
    "3 * 2 * factorial(1)  # 3rd call with 1\n",
    "3 * 2 * 1             # return from 3rd call as number=1\n",
    "3 * 2                 # return from 2nd call\n",
    "6                     # return from 1st call\n",
    "</pre>"
   ]
  },
  {
   "cell_type": "markdown",
   "metadata": {
    "tags": []
   },
   "source": [
    "- Every recursive function must have a base condition that stops the recursion or else the function calls itself infinitely.\n",
    "- The Python interpreter limits the depths of recursion to help avoid infinite recursions, resulting in stack overflows.\n",
    "- By default, the maximum depth of recursion is 1000. If the limit is crossed, it results in `RecursionError`"
   ]
  },
  {
   "cell_type": "code",
   "execution_count": null,
   "metadata": {
    "tags": []
   },
   "outputs": [],
   "source": [
    "# RecursionError Example\n",
    "\n",
    "def recursor():\n",
    "    recursor()"
   ]
  },
  {
   "cell_type": "code",
   "execution_count": null,
   "metadata": {
    "tags": []
   },
   "outputs": [],
   "source": [
    "recursor()\n",
    "# This might fail in jupyter notebook, for required results run on terminal"
   ]
  },
  {
   "cell_type": "markdown",
   "metadata": {
    "tags": []
   },
   "source": [
    "Advantages of Recursion\n",
    "- Recursive functions make the code look clean and elegant.\n",
    "- A complex task can be broken down into simpler sub-problems using recursion.\n",
    "- Sequence generation is easier with recursion than using some nested iteration.\n",
    "\n",
    "Disadvantages of Recursion\n",
    "- Sometimes the logic behind recursion is hard to follow through.\n",
    "- Recursive calls are expensive (inefficient) as they take up a lot of memory and time.\n",
    "- Recursive functions are hard to debug."
   ]
  },
  {
   "cell_type": "markdown",
   "metadata": {
    "tags": []
   },
   "source": [
    "# Docstring"
   ]
  },
  {
   "cell_type": "markdown",
   "metadata": {
    "tags": []
   },
   "source": [
    "- Documentation strings (or docstrings) provide a convenient way of associating documentation with functions, classes, and methods.\n",
    "- The docstring should describe what the function does, not how.\n",
    "- **Declaring Docstrings:** The docstrings are declared using `'''`triple single quotes`'''` or `\"\"\"`triple double quotes`\"\"\"` just below the class, method or function declaration.\n",
    "- Accessing Docstrings: The docstrings can be accessed using the `__doc__` method of the object or using the `help` function."
   ]
  },
  {
   "cell_type": "code",
   "execution_count": null,
   "metadata": {
    "tags": []
   },
   "outputs": [],
   "source": [
    "help(print)"
   ]
  },
  {
   "cell_type": "code",
   "execution_count": null,
   "metadata": {
    "tags": []
   },
   "outputs": [],
   "source": [
    "# For Example\n",
    "# function to find whether the given number is Armstrong number or not\n",
    "def armstrong_number3(num):\n",
    "    '''\n",
    "    Function to find whether the given number is Armstrong number or not.\n",
    "    '''\n",
    "    value = 0\n",
    "\n",
    "    # find the sum of the cube of each digit\n",
    "    temp = num\n",
    "    while temp > 0:\n",
    "        digit = temp % 10\n",
    "        value = value +  digit ** 3\n",
    "        temp = temp // 10\n",
    "    \n",
    "    # return the result\n",
    "    if num == value:\n",
    "        return True\n",
    "    else:\n",
    "        return False"
   ]
  },
  {
   "cell_type": "code",
   "execution_count": null,
   "metadata": {
    "tags": []
   },
   "outputs": [],
   "source": [
    "help(armstrong_number3)"
   ]
  },
  {
   "cell_type": "code",
   "execution_count": null,
   "metadata": {},
   "outputs": [],
   "source": [
    "armstrong_number3.__doc__"
   ]
  },
  {
   "cell_type": "code",
   "execution_count": null,
   "metadata": {
    "tags": []
   },
   "outputs": [],
   "source": [
    "armstrong_number3()"
   ]
  },
  {
   "cell_type": "markdown",
   "metadata": {
    "tags": []
   },
   "source": [
    "What should a docstring look like?\n",
    "\n",
    "- The doc string line should begin with a capital letter and end with a period.\n",
    "- The first line should be a short description.\n",
    "- If there are more lines in the documentation string, the second line should be blank, visually separating the summary from the rest of the description.\n",
    "- The following lines should be one or more paragraphs describing the object’s calling conventions, its side effects, etc."
   ]
  },
  {
   "cell_type": "markdown",
   "metadata": {
    "tags": []
   },
   "source": [
    "# Anonymous Function \n",
    "- An anonymous function is a function that is defined without a name.\n",
    "- While normal functions are defined using the def keyword in Python, anonymous functions are defined using the `lambda` keyword.\n",
    "- Hence, anonymous functions are also called Lambda functions."
   ]
  },
  {
   "cell_type": "code",
   "execution_count": null,
   "metadata": {
    "tags": []
   },
   "outputs": [],
   "source": [
    "# find square of numbers using lambda functions\n",
    "square = lambda x: x ** 2"
   ]
  },
  {
   "cell_type": "code",
   "execution_count": null,
   "metadata": {
    "tags": []
   },
   "outputs": [],
   "source": [
    "square(10)"
   ]
  },
  {
   "cell_type": "markdown",
   "metadata": {
    "tags": []
   },
   "source": [
    "# `pass` Statement\n",
    "- Function definitions cannot be empty, but if you for some reason have a function definition with no content, put in the pass statement to avoid getting an error.\n",
    "- `pass` statement also applies to conditional statements (`if`, `else`, `elif`)"
   ]
  },
  {
   "cell_type": "code",
   "execution_count": 6,
   "metadata": {
    "tags": []
   },
   "outputs": [],
   "source": [
    "def myfunction():\n",
    "    pass\n",
    "def get_data():\n",
    "    pass\n",
    "def post_data():\n",
    "    pass"
   ]
  },
  {
   "cell_type": "code",
   "execution_count": 7,
   "metadata": {
    "tags": []
   },
   "outputs": [],
   "source": [
    "myfunction()"
   ]
  },
  {
   "cell_type": "code",
   "execution_count": 9,
   "metadata": {
    "tags": []
   },
   "outputs": [],
   "source": [
    "movie_rating = 3\n",
    "\n",
    "if movie_rating > 4:\n",
    "    print(\"yes\")\n",
    "elif movie_rating > 2.5 and movie_rating < 4:\n",
    "    pass\n",
    "else:\n",
    "    print(\"no\")"
   ]
  },
  {
   "cell_type": "code",
   "execution_count": null,
   "metadata": {},
   "outputs": [],
   "source": []
  }
 ],
 "metadata": {
  "kernelspec": {
   "display_name": "Python 3",
   "language": "python",
   "name": "python3"
  },
  "language_info": {
   "codemirror_mode": {
    "name": "ipython",
    "version": 3
   },
   "file_extension": ".py",
   "mimetype": "text/x-python",
   "name": "python",
   "nbconvert_exporter": "python",
   "pygments_lexer": "ipython3",
   "version": "3.8.5"
  },
  "toc-autonumbering": true
 },
 "nbformat": 4,
 "nbformat_minor": 5
}
