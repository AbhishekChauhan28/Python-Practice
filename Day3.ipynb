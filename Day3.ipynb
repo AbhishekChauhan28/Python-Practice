{
 "cells": [
  {
   "cell_type": "markdown",
   "metadata": {},
   "source": [
    "# Create a Vehicle class with attributes number of wheels, number of air bags, engine horsepower, max speed, mileage, etc. Create a constructor and a method that displays vehicle info."
   ]
  },
  {
   "cell_type": "code",
   "execution_count": 1,
   "metadata": {},
   "outputs": [],
   "source": [
    "class vehicle1:\n",
    "    def __init__(self, vehicle_Type, number_of_wheels, number_of_airbags, engine_horsepower, max_speed, mileage,):\n",
    "        self.vehicle_Type = vehicle_Type\n",
    "        self.number_of_wheels = number_of_wheels\n",
    "        self.number_of_airbags = number_of_airbags\n",
    "        self.engine_horsepower = engine_horsepower\n",
    "        self.max_speed = max_speed\n",
    "        self.mileage = mileage"
   ]
  },
  {
   "cell_type": "code",
   "execution_count": 2,
   "metadata": {},
   "outputs": [],
   "source": [
    "volvo = vehicle1(\"Car\", 4, 6, 3000, 320, 10)"
   ]
  },
  {
   "cell_type": "code",
   "execution_count": 3,
   "metadata": {},
   "outputs": [
    {
     "name": "stdout",
     "output_type": "stream",
     "text": [
      "Car Details :- \n",
      " Vehicle Type :  Car \n",
      " Number Of Wheels :  4 \n",
      " Number of airbags :  6 \n",
      " Engine Horspower in Bhp :  3000 \n",
      " Max speed in Miles/Hpurs : 320 \n",
      " Mileage in Miles/Litre :  10\n"
     ]
    }
   ],
   "source": [
    "print(\"Car Details :- \\n\",\"Vehicle Type : \", volvo.vehicle_Type, \"\\n\", \"Number Of Wheels : \", volvo.number_of_wheels, \"\\n\", \"Number of airbags : \", volvo.number_of_airbags, \"\\n\",\n",
    "    \"Engine Horspower in Bhp : \", volvo.engine_horsepower, \"\\n\", \"Max speed in Miles/Hpurs :\", volvo.max_speed, \"\\n\", \"Mileage in Miles/Litre : \", volvo.mileage)"
   ]
  },
  {
   "cell_type": "markdown",
   "metadata": {},
   "source": [
    "# Create a child class Bus, from Vehicle class, that will inherit all of the variables and methods of the Vehicle class. This Bus class will have its own attributes – number of doors, number of seats, fare per km, etc, along with inherited attributes. Write a method to calculate bus fare by accepting distance in km as parameter."
   ]
  },
  {
   "cell_type": "code",
   "execution_count": 10,
   "metadata": {},
   "outputs": [],
   "source": [
    "class vehicle2:\n",
    "    def __init__(self, distance, fare):\n",
    "        self.fare = fare\n",
    "        self.distance = distance\n",
    "    def Fare(self):\n",
    "        print(\"The total Bus fare of the journy : Rs. {0} \" .format(self.distance * self.fare))"
   ]
  },
  {
   "cell_type": "code",
   "execution_count": 11,
   "metadata": {},
   "outputs": [],
   "source": [
    "class Info(vehicle2):\n",
    "    def __init__(self, vehicle_Type, number_of_wheels, number_of_doors, number_of_seats, fair_per_km, max_speed, mileage, fare_km):\n",
    "        vehicle2.__init__(self, fare_km, fair_per_km)\n",
    "        self.vehicle_Type = vehicle_Type\n",
    "        self.number_of_wheels = number_of_wheels\n",
    "        self.number_of_doors = number_of_doors\n",
    "        self.number_of_seats = number_of_seats\n",
    "        self.fair_per_km = fair_per_km\n",
    "        self.max_speed = max_speed\n",
    "        self.mileage = mileage"
   ]
  },
  {
   "cell_type": "code",
   "execution_count": 12,
   "metadata": {},
   "outputs": [
    {
     "name": "stdin",
     "output_type": "stream",
     "text": [
      "Enter the distance covered by passenger in KM :  11\n"
     ]
    },
    {
     "name": "stdout",
     "output_type": "stream",
     "text": [
      "Car Details :- \n",
      " Vehicle Type :  Bus \n",
      " Number Of Wheels :  6 \n",
      " Number of doors :  4 \n",
      " Number of sitting capacity :  24 \n",
      " Max speed in Miles/Hpurs : 100 \n",
      " Fare per kilometer of the bus : 12 \n",
      " Mileage in Miles/Litre :  25\n",
      "The total Bus fare of the journy : Rs. 132.0 \n"
     ]
    }
   ],
   "source": [
    "km = float(input(\"Enter the distance covered by passenger in KM : \"))\n",
    "volvo = Info(\"Bus\", 6, 4, 24, 12, 100, 25, km)\n",
    "print(\"Car Details :- \\n\",\"Vehicle Type : \", volvo.vehicle_Type, \"\\n\", \"Number Of Wheels : \", volvo.number_of_wheels, \"\\n\", \"Number of doors : \", volvo.number_of_doors, \"\\n\",\n",
    "    \"Number of sitting capacity : \", volvo.number_of_seats, \"\\n\", \"Max speed in Miles/Hpurs :\", volvo.max_speed, \"\\n\", \"Fare per kilometer of the bus :\", volvo.fair_per_km, \"\\n\", \"Mileage in Miles/Litre : \", volvo.mileage)\n",
    "\n",
    "volvo.Fare()"
   ]
  },
  {
   "cell_type": "markdown",
   "metadata": {},
   "source": [
    "# Create class BankAccount with attributes cutomer_id, customer_name, account_balance. Write methods withdraw and deposit amount. If during withdrawing money from account, the account balance is not sufficient, display appropriate message. Create object of this class and test methods withdraw and deposit."
   ]
  },
  {
   "cell_type": "code",
   "execution_count": null,
   "metadata": {},
   "outputs": [],
   "source": [
    "class Bank:\n",
    "    def __init__(self, customer_id = 123, customer_name = \"Abhishek Chauhan\"):\n",
    "        self.customer_id = customer_id\n",
    "        self.customer_name = customer_name\n",
    "        self.balance = 0\n",
    "        print (\"The account is created\")\n",
    "        \n",
    "    def deposit(self):\n",
    "        amount = float(input(\"Enter the amount to be deposit: \"))\n",
    "        self.balance = self.balance + amount\n",
    "        print (\"Deposit is successful and the balance in the account is %f\" % self.balance)\n",
    "    \n",
    "    def withdraw(self):\n",
    "        amount = float(input(\"Enter the amount to withdraw: \"))\n",
    "        if (self.balance >= amount):\n",
    "            self.balance = self.balance - amount\n",
    "            print (\"The withdraw is successfull and balance is %f\" % self.balance)\n",
    "        else:\n",
    "            print ('Insuficient Balance')\n",
    "    \n",
    "    def enquiry(self):\n",
    "        print (\"Balance in the acount is %f\" % self.balance)\n",
    "        \n",
    "    def info(self):\n",
    "        print(\"Customer Id : \", self.customer_id)\n",
    "        print(\"Cutomer Name :\", self.customer_name)\n",
    "        \n",
    "\n",
    "acc = Bank()\n",
    "acc.info()\n",
    "acc.deposit()\n",
    "acc.withdraw()\n",
    "acc.enquiry()"
   ]
  },
  {
   "cell_type": "markdown",
   "metadata": {},
   "source": [
    "# Create class RegularAccount derived from base class BankAccount. There is a penalty of ₹ 10.00 if the balance falls below a minimum of ₹3000. If customer tries to withdraw amount and balance goes below ₹3000, deduct penalty amount from the balance and notify customer about it, and if after deducting penalty amount if balance goes in below zero notify customer about insufficient balance."
   ]
  },
  {
   "cell_type": "code",
   "execution_count": null,
   "metadata": {},
   "outputs": [],
   "source": [
    "class Bank:\n",
    "    def __init__(self, customer_id = 123, customer_name = \"Abhishek Chauhan\"):\n",
    "        self.customer_id = customer_id\n",
    "        self.customer_name = customer_name\n",
    "        self.balance = 0\n",
    "        print (\"The account is created\")\n",
    "        \n",
    "    def deposit(self):\n",
    "        amount = float(input(\"Enter the amount to be deposit: \"))\n",
    "        self.balance = self.balance + amount\n",
    "        print (\"Deposit is successful and the balance in the account is %f\" % self.balance)\n",
    "    \n",
    "    def withdraw(self):\n",
    "        amount = float(input(\"Enter the amount to withdraw: \"))\n",
    "        if (self.balance >= amount):\n",
    "            self.balance = self.balance - amount\n",
    "            print (\"The withdraw is successfull and balance is %f\" % self.balance)\n",
    "        else:\n",
    "            print ('Insuficient Balance')\n",
    "    \n",
    "    def enquiry(self):\n",
    "        print (\"Balance in the acount is %f\" % self.balance)\n",
    "        \n",
    "    def info(self):\n",
    "        print(\"Customer Id : \", self.customer_id)\n",
    "        print(\"Cutomer Name :\", self.customer_name)\n",
    "\n",
    "class RegularAccount(Bank):\n",
    "    def penalty(self):\n",
    "        \n",
    "        \n",
    "\n",
    "acc = Bank()\n",
    "acc.info()\n",
    "acc.deposit()\n",
    "acc.withdraw()\n",
    "acc.enquiry()"
   ]
  },
  {
   "cell_type": "markdown",
   "metadata": {},
   "source": [
    "# Write a program to implement a simple calculator that can add, subtract, multiply and divide two integers. The program should handle two kinds of exceptions, ZeroDivisionError and ValueError."
   ]
  },
  {
   "cell_type": "code",
   "execution_count": 13,
   "metadata": {},
   "outputs": [
    {
     "name": "stdin",
     "output_type": "stream",
     "text": [
      "\n",
      "Please type in the math operation you would like to complete:\n",
      "+ for addition\n",
      "- for subtraction\n",
      "* for multiplication\n",
      "/ for division 3\n",
      "Please! enter the first number :  7665\n",
      "Please! enter the second number :  7666\n"
     ]
    },
    {
     "name": "stdout",
     "output_type": "stream",
     "text": [
      "You have not typed a valid operator\n"
     ]
    },
    {
     "name": "stdin",
     "output_type": "stream",
     "text": [
      "\n",
      "    Do you want to calculate again?\n",
      "    Please Type Y fro yess or N for No.\n",
      "     n\n"
     ]
    },
    {
     "name": "stdout",
     "output_type": "stream",
     "text": [
      "see you later. \n"
     ]
    }
   ],
   "source": [
    "def calculate():\n",
    "    operation = input('''\n",
    "Please type in the math operation you would like to complete:\n",
    "+ for addition\n",
    "- for subtraction\n",
    "* for multiplication\n",
    "/ for division''')\n",
    "    number_1 = int(input(\"Please! enter the first number : \"))\n",
    "    number_2 = int(input(\"Please! enter the second number : \"))\n",
    "    try:\n",
    "        if operation == '+':\n",
    "            print('{} + {}' .format(number_1, number_2))\n",
    "            print(number_1 + number_2)\n",
    "        elif operation == '-':\n",
    "            print('{} + {}' .format(number_1, number_2))\n",
    "            print(number_1 - number_2)\n",
    "        elif operation == '*':\n",
    "            print('{} + {}' .format(number_1, number_2))\n",
    "            print(number_1 * number_2)\n",
    "        elif operation == '/':\n",
    "            print('{} + {}' .format(number_1, number_2))\n",
    "            print(number_1 / number_2)\n",
    "        else:\n",
    "            print(\"You have not typed a valid operator\")\n",
    "            \n",
    "    except:\n",
    "        print(\"Invalid Operator! Thanks for visiting \")\n",
    "        \n",
    "    again()\n",
    "    \n",
    "def again():\n",
    "    cal_again = input('''\n",
    "    Do you want to calculate again?\n",
    "    Please Type Y fro yess or N for No.\n",
    "    ''')\n",
    "    if cal_again.upper() == 'Y':\n",
    "        calculate()\n",
    "    elif cal_again.upper() == 'N':\n",
    "        print('see you later. ')\n",
    "    else:\n",
    "        again()\n",
    "\n",
    "calculate()\n",
    "        "
   ]
  },
  {
   "cell_type": "code",
   "execution_count": null,
   "metadata": {},
   "outputs": [],
   "source": []
  },
  {
   "cell_type": "code",
   "execution_count": null,
   "metadata": {},
   "outputs": [],
   "source": []
  }
 ],
 "metadata": {
  "kernelspec": {
   "display_name": "Python 3",
   "language": "python",
   "name": "python3"
  },
  "language_info": {
   "codemirror_mode": {
    "name": "ipython",
    "version": 3
   },
   "file_extension": ".py",
   "mimetype": "text/x-python",
   "name": "python",
   "nbconvert_exporter": "python",
   "pygments_lexer": "ipython3",
   "version": "3.8.10"
  }
 },
 "nbformat": 4,
 "nbformat_minor": 4
}
